{
 "cells": [
  {
   "cell_type": "code",
   "id": "ec095be4-3d50-457c-bf87-10339c9acdd5",
   "metadata": {
    "ExecuteTime": {
     "end_time": "2025-01-11T07:20:45.080570Z",
     "start_time": "2025-01-11T07:20:35.722488Z"
    }
   },
   "source": [
    "import pandas as pd\n",
    "import matplotlib.pyplot as plt"
   ],
   "outputs": [],
   "execution_count": 1
  },
  {
   "cell_type": "markdown",
   "id": "69636e62-67c4-4c30-a190-68825700086d",
   "metadata": {},
   "source": [
    "# parameter set:\n",
    "# Total particle number 𝑁=10^6\n",
    "# Calculate self potential: if the distance r between two particles < 170 pc, r = 170 pc\n",
    "# Total potential = self potential + external potential\n",
    "# Total kinetic energy = relative kinetic energy based on center point (self kinetic energy) + absolute kinetic energy\n",
    "# Bound condition: self kinetic energy(= bound KE) < self potential(= bound PE)"
   ]
  },
  {
   "cell_type": "code",
   "id": "0678d8cc-fed8-44f6-9946-3db3fa1501a1",
   "metadata": {
    "ExecuteTime": {
     "end_time": "2025-01-11T07:20:49.292160Z",
     "start_time": "2025-01-11T07:20:49.282570Z"
    }
   },
   "source": [
    "# file_path = '/rhome/hsang012/bigdata/Gadget2/SIDM/codeSIDM3/output_testRun2_job/boundmass.txt'\n",
    "file_path = '/Users/sanghaoyu/CLionProjects/Gadget-2/boundmass.txt'\n",
    "data = pd.read_csv(file_path, sep=r'\\s+', header=None)"
   ],
   "outputs": [],
   "execution_count": 2
  },
  {
   "cell_type": "code",
   "id": "0645d611-6260-4eab-b9cc-632e107ee0de",
   "metadata": {
    "ExecuteTime": {
     "end_time": "2025-01-11T07:20:50.991533Z",
     "start_time": "2025-01-11T07:20:50.984758Z"
    }
   },
   "source": [
    "data['y'] = data.iloc[:, -1] + data.iloc[:, -2]"
   ],
   "outputs": [],
   "execution_count": 3
  },
  {
   "cell_type": "code",
   "id": "4abf14b3-6b56-4884-a814-2f1ca7dc9e09",
   "metadata": {
    "ExecuteTime": {
     "end_time": "2025-01-11T07:20:54.700435Z",
     "start_time": "2025-01-11T07:20:54.678605Z"
    }
   },
   "source": [
    "print(data)"
   ],
   "outputs": [
    {
     "name": "stdout",
     "output_type": "stream",
     "text": [
      "       0            1           2         3         4         5         6  \\\n",
      "0    4.2  271985024.0  58853275.0  0.000294  0.000232 -0.000271  0.000462   \n",
      "1    7.4  273214816.0  58903325.0  0.000956  0.000173 -0.000476  0.001082   \n",
      "2    1.0  279248128.0  58482450.0  0.000000 -0.000003 -0.000004  0.000005   \n",
      "3    5.2  272004192.0  58839625.0  0.000455  0.000260 -0.000356  0.000633   \n",
      "4    0.8  280076544.0  58568900.0 -0.000002 -0.000004 -0.000004  0.000005   \n",
      "..   ...          ...         ...       ...       ...       ...       ...   \n",
      "57   4.0  272102016.0  58984900.0  0.000271  0.000208 -0.000248  0.000422   \n",
      "58   5.6  271861184.0  58868225.0  0.000541  0.000273 -0.000381  0.000716   \n",
      "59  11.0  274650016.0  58971250.0  0.002232  0.000036 -0.000877  0.002398   \n",
      "60   9.0  274971456.0  58983600.0  0.001402  0.000058 -0.000573  0.001516   \n",
      "61   9.2  275030592.0  58960850.0  0.001480  0.000065 -0.000585  0.001593   \n",
      "\n",
      "               7             8             9            10      11       12  \\\n",
      "0  -9.701786e+10  2.457792e+10 -6.596749e+13  2.422372e+10   975.0  10400.0   \n",
      "1  -9.714622e+10  2.449500e+10 -6.514659e+13  2.434769e+10  1625.0  11050.0   \n",
      "2  -9.838516e+10  2.508143e+10 -6.674762e+13  2.487233e+10   650.0   7150.0   \n",
      "3  -9.674162e+10  2.419181e+10 -6.568092e+13  2.410705e+10  1625.0   9100.0   \n",
      "4  -9.871880e+10  2.523004e+10 -6.682268e+13  2.504680e+10   975.0  10400.0   \n",
      "..           ...           ...           ...           ...     ...      ...   \n",
      "57 -9.709992e+10  2.460090e+10 -6.602803e+13  2.426098e+10   325.0   9425.0   \n",
      "58 -9.673144e+10  2.436791e+10 -6.557136e+13  2.410776e+10  1950.0  10075.0   \n",
      "59 -9.736349e+10  2.469330e+10 -6.297425e+13  2.458509e+10   975.0   9100.0   \n",
      "60 -9.750669e+10  2.467375e+10 -6.449996e+13  2.456766e+10  1950.0   9425.0   \n",
      "61 -9.740135e+10  2.500431e+10 -6.438436e+13  2.453018e+10   975.0   8125.0   \n",
      "\n",
      "          13            14            15             y  \n",
      "0   128375.0 -9.696976e+10  2.439386e+10 -7.257589e+10  \n",
      "1   138775.0 -9.711336e+10  2.427341e+10 -7.283995e+10  \n",
      "2   127725.0 -9.824316e+10  2.484132e+10 -7.340184e+10  \n",
      "3   132275.0 -9.670043e+10  2.400256e+10 -7.269786e+10  \n",
      "4   125450.0 -9.855633e+10  2.497410e+10 -7.358222e+10  \n",
      "..       ...           ...           ...           ...  \n",
      "57  117975.0 -9.705021e+10  2.441841e+10 -7.263179e+10  \n",
      "58  127075.0 -9.669266e+10  2.417384e+10 -7.251882e+10  \n",
      "59  144300.0 -9.733821e+10  2.436630e+10 -7.297191e+10  \n",
      "60  130650.0 -9.747782e+10  2.441466e+10 -7.306316e+10  \n",
      "61  132275.0 -9.737321e+10  2.473912e+10 -7.263409e+10  \n",
      "\n",
      "[62 rows x 17 columns]\n"
     ]
    }
   ],
   "execution_count": 4
  },
  {
   "cell_type": "code",
   "id": "9f66cb1f-d051-4a55-b27c-15bb67d568cc",
   "metadata": {
    "ExecuteTime": {
     "end_time": "2025-01-11T07:21:10.458360Z",
     "start_time": "2025-01-11T07:21:10.452962Z"
    }
   },
   "source": [
    "# sort data by the first column\n",
    "data_sorted = data.sort_values(by=0)"
   ],
   "outputs": [],
   "execution_count": 5
  },
  {
   "cell_type": "code",
   "id": "086225b0-cc90-4947-b318-6b6d57705f8b",
   "metadata": {
    "ExecuteTime": {
     "end_time": "2025-01-11T07:21:12.968138Z",
     "start_time": "2025-01-11T07:21:12.952314Z"
    }
   },
   "source": [
    "print(data_sorted)"
   ],
   "outputs": [
    {
     "name": "stdout",
     "output_type": "stream",
     "text": [
      "       0            1           2         3         4         5         6  \\\n",
      "44   0.0  281829600.0  54226900.0  0.000000  0.000000  0.000000  0.000000   \n",
      "5    0.2  281197152.0  56876625.0  0.000005 -0.000002  0.000004  0.000007   \n",
      "25   0.4  280771072.0  58369025.0  0.000010  0.000005  0.000002  0.000011   \n",
      "28   0.6  280403168.0  58318650.0  0.000008  0.000002  0.000008  0.000011   \n",
      "4    0.8  280076544.0  58568900.0 -0.000002 -0.000004 -0.000004  0.000005   \n",
      "..   ...          ...         ...       ...       ...       ...       ...   \n",
      "16  11.4  274537568.0  58978725.0  0.002411  0.000011 -0.000955  0.002593   \n",
      "35  11.6  274492064.0  58932900.0  0.002501  0.000004 -0.000976  0.002684   \n",
      "30  11.8  274427712.0  58858150.0  0.002584 -0.000001 -0.001002  0.002771   \n",
      "31  12.0  274332160.0  58907875.0  0.002681 -0.000028 -0.001029  0.002871   \n",
      "47  12.2  274332160.0  58907875.0  0.002681 -0.000028 -0.001029  0.002871   \n",
      "\n",
      "               7             8             9            10       11       12  \\\n",
      "44 -9.745139e+10  2.439278e+10 -6.689968e+13  2.439278e+10  25350.0  90350.0   \n",
      "5  -9.862335e+10  2.543987e+10 -6.694948e+13  2.498633e+10   1625.0   8775.0   \n",
      "25 -9.923185e+10  2.539961e+10 -6.695696e+13  2.530334e+10    650.0   5850.0   \n",
      "28 -9.896006e+10  2.523418e+10 -6.689381e+13  2.517259e+10   1300.0   9100.0   \n",
      "4  -9.871880e+10  2.523004e+10 -6.682268e+13  2.504680e+10    975.0  10400.0   \n",
      "..           ...           ...           ...           ...      ...      ...   \n",
      "16 -9.737222e+10  2.459852e+10 -6.262442e+13  2.461300e+10   1950.0   9425.0   \n",
      "35 -9.738691e+10  2.463868e+10 -6.245235e+13  2.463897e+10    975.0   8775.0   \n",
      "30 -9.737439e+10  2.464016e+10 -6.227778e+13  2.463862e+10    975.0  10725.0   \n",
      "31 -9.737027e+10  2.466845e+10 -6.210184e+13  2.464940e+10   2925.0  10725.0   \n",
      "47 -9.737027e+10  2.466829e+10 -6.210184e+13  2.464911e+10   2925.0  10725.0   \n",
      "\n",
      "          13            14            15             y  \n",
      "44  531700.0 -9.745139e+10  2.439278e+10 -7.305861e+10  \n",
      "5   106600.0 -9.841956e+10  2.518692e+10 -7.323264e+10  \n",
      "25  102375.0 -9.902488e+10  2.512334e+10 -7.390154e+10  \n",
      "28  114725.0 -9.876959e+10  2.496024e+10 -7.380935e+10  \n",
      "4   125450.0 -9.855633e+10  2.497410e+10 -7.358222e+10  \n",
      "..       ...           ...           ...           ...  \n",
      "16  139425.0 -9.734736e+10  2.425524e+10 -7.309212e+10  \n",
      "35  148850.0 -9.736226e+10  2.428544e+10 -7.307682e+10  \n",
      "30  149175.0 -9.735031e+10  2.427865e+10 -7.307166e+10  \n",
      "31  136500.0 -9.734639e+10  2.429601e+10 -7.305038e+10  \n",
      "47  136500.0 -9.734640e+10  2.429585e+10 -7.305055e+10  \n",
      "\n",
      "[62 rows x 17 columns]\n"
     ]
    }
   ],
   "execution_count": 6
  },
  {
   "cell_type": "code",
   "id": "1b0b48bf-be5f-482b-9787-07f687806f6e",
   "metadata": {
    "ExecuteTime": {
     "end_time": "2025-01-11T07:21:40.288565Z",
     "start_time": "2025-01-11T07:21:40.281600Z"
    }
   },
   "source": [
    "print(data_sorted.shape)"
   ],
   "outputs": [
    {
     "name": "stdout",
     "output_type": "stream",
     "text": [
      "(62, 17)\n"
     ]
    }
   ],
   "execution_count": 7
  },
  {
   "cell_type": "code",
   "id": "a5da9c99-abb7-4b70-929a-8f8047a3d8f4",
   "metadata": {
    "ExecuteTime": {
     "end_time": "2025-01-11T07:21:42.926587Z",
     "start_time": "2025-01-11T07:21:42.921104Z"
    }
   },
   "source": [
    "initial_value = data_sorted.loc[data_sorted.iloc[:, 0] == 0, 'y'].values[0]"
   ],
   "outputs": [],
   "execution_count": 8
  },
  {
   "cell_type": "code",
   "id": "dae968b9-6d61-4cc5-8b19-f58a07aa5f93",
   "metadata": {
    "ExecuteTime": {
     "end_time": "2025-01-11T07:21:44.824951Z",
     "start_time": "2025-01-11T07:21:44.821840Z"
    }
   },
   "source": [
    "print(initial_value)"
   ],
   "outputs": [
    {
     "name": "stdout",
     "output_type": "stream",
     "text": [
      "-73058612589.71219\n"
     ]
    }
   ],
   "execution_count": 9
  },
  {
   "cell_type": "code",
   "id": "01af6f85-14af-4b38-bae3-23c25be3bbae",
   "metadata": {
    "ExecuteTime": {
     "end_time": "2025-01-11T07:21:48.300081Z",
     "start_time": "2025-01-11T07:21:48.295880Z"
    }
   },
   "source": [
    "initial_value = abs(initial_value)"
   ],
   "outputs": [],
   "execution_count": 10
  },
  {
   "cell_type": "code",
   "id": "f69460ca-7187-41ff-9661-9342a0cb0748",
   "metadata": {
    "ExecuteTime": {
     "end_time": "2025-01-11T07:21:50.304266Z",
     "start_time": "2025-01-11T07:21:50.299843Z"
    }
   },
   "source": [
    "print(initial_value)"
   ],
   "outputs": [
    {
     "name": "stdout",
     "output_type": "stream",
     "text": [
      "73058612589.71219\n"
     ]
    }
   ],
   "execution_count": 11
  },
  {
   "cell_type": "code",
   "id": "fc3334be-6ccd-414d-a527-12f0a4be5442",
   "metadata": {
    "ExecuteTime": {
     "end_time": "2025-01-11T07:21:53.461527Z",
     "start_time": "2025-01-11T07:21:53.456502Z"
    }
   },
   "source": [
    "data_sorted['y_normalized'] = data_sorted['y'] / initial_value"
   ],
   "outputs": [],
   "execution_count": 12
  },
  {
   "cell_type": "code",
   "id": "25aa7191-34e2-4b68-ad63-253e60f387ff",
   "metadata": {
    "ExecuteTime": {
     "end_time": "2025-01-11T07:21:55.708485Z",
     "start_time": "2025-01-11T07:21:55.692757Z"
    }
   },
   "source": [
    "print(data_sorted)"
   ],
   "outputs": [
    {
     "name": "stdout",
     "output_type": "stream",
     "text": [
      "       0            1           2         3         4         5         6  \\\n",
      "44   0.0  281829600.0  54226900.0  0.000000  0.000000  0.000000  0.000000   \n",
      "5    0.2  281197152.0  56876625.0  0.000005 -0.000002  0.000004  0.000007   \n",
      "25   0.4  280771072.0  58369025.0  0.000010  0.000005  0.000002  0.000011   \n",
      "28   0.6  280403168.0  58318650.0  0.000008  0.000002  0.000008  0.000011   \n",
      "4    0.8  280076544.0  58568900.0 -0.000002 -0.000004 -0.000004  0.000005   \n",
      "..   ...          ...         ...       ...       ...       ...       ...   \n",
      "16  11.4  274537568.0  58978725.0  0.002411  0.000011 -0.000955  0.002593   \n",
      "35  11.6  274492064.0  58932900.0  0.002501  0.000004 -0.000976  0.002684   \n",
      "30  11.8  274427712.0  58858150.0  0.002584 -0.000001 -0.001002  0.002771   \n",
      "31  12.0  274332160.0  58907875.0  0.002681 -0.000028 -0.001029  0.002871   \n",
      "47  12.2  274332160.0  58907875.0  0.002681 -0.000028 -0.001029  0.002871   \n",
      "\n",
      "               7             8             9            10       11       12  \\\n",
      "44 -9.745139e+10  2.439278e+10 -6.689968e+13  2.439278e+10  25350.0  90350.0   \n",
      "5  -9.862335e+10  2.543987e+10 -6.694948e+13  2.498633e+10   1625.0   8775.0   \n",
      "25 -9.923185e+10  2.539961e+10 -6.695696e+13  2.530334e+10    650.0   5850.0   \n",
      "28 -9.896006e+10  2.523418e+10 -6.689381e+13  2.517259e+10   1300.0   9100.0   \n",
      "4  -9.871880e+10  2.523004e+10 -6.682268e+13  2.504680e+10    975.0  10400.0   \n",
      "..           ...           ...           ...           ...      ...      ...   \n",
      "16 -9.737222e+10  2.459852e+10 -6.262442e+13  2.461300e+10   1950.0   9425.0   \n",
      "35 -9.738691e+10  2.463868e+10 -6.245235e+13  2.463897e+10    975.0   8775.0   \n",
      "30 -9.737439e+10  2.464016e+10 -6.227778e+13  2.463862e+10    975.0  10725.0   \n",
      "31 -9.737027e+10  2.466845e+10 -6.210184e+13  2.464940e+10   2925.0  10725.0   \n",
      "47 -9.737027e+10  2.466829e+10 -6.210184e+13  2.464911e+10   2925.0  10725.0   \n",
      "\n",
      "          13            14            15             y  y_normalized  \n",
      "44  531700.0 -9.745139e+10  2.439278e+10 -7.305861e+10     -1.000000  \n",
      "5   106600.0 -9.841956e+10  2.518692e+10 -7.323264e+10     -1.002382  \n",
      "25  102375.0 -9.902488e+10  2.512334e+10 -7.390154e+10     -1.011538  \n",
      "28  114725.0 -9.876959e+10  2.496024e+10 -7.380935e+10     -1.010276  \n",
      "4   125450.0 -9.855633e+10  2.497410e+10 -7.358222e+10     -1.007167  \n",
      "..       ...           ...           ...           ...           ...  \n",
      "16  139425.0 -9.734736e+10  2.425524e+10 -7.309212e+10     -1.000459  \n",
      "35  148850.0 -9.736226e+10  2.428544e+10 -7.307682e+10     -1.000249  \n",
      "30  149175.0 -9.735031e+10  2.427865e+10 -7.307166e+10     -1.000179  \n",
      "31  136500.0 -9.734639e+10  2.429601e+10 -7.305038e+10     -0.999887  \n",
      "47  136500.0 -9.734640e+10  2.429585e+10 -7.305055e+10     -0.999890  \n",
      "\n",
      "[62 rows x 18 columns]\n"
     ]
    }
   ],
   "execution_count": 13
  },
  {
   "cell_type": "code",
   "id": "f148b603-4572-4184-851d-77f5645a5404",
   "metadata": {
    "ExecuteTime": {
     "end_time": "2025-01-11T07:22:12.596024Z",
     "start_time": "2025-01-11T07:22:12.590855Z"
    }
   },
   "source": [
    "x_sorted = data_sorted.iloc[:, 0]  # First column\n",
    "y_normalized = data_sorted['y_normalized']"
   ],
   "outputs": [],
   "execution_count": 14
  },
  {
   "cell_type": "code",
   "id": "53e5391b-e921-43f3-bd5a-300158355efe",
   "metadata": {
    "ExecuteTime": {
     "end_time": "2025-01-12T05:52:41.209785Z",
     "start_time": "2025-01-12T05:52:40.959831Z"
    }
   },
   "source": [
    "# plt.figure(figsize=(8, 5))\n",
    "plt.plot(x_sorted, y_normalized, marker='o', linestyle='-', label='Normalized y')"
   ],
   "outputs": [
    {
     "data": {
      "text/plain": [
       "[<matplotlib.lines.Line2D at 0x113c04f90>]"
      ]
     },
     "execution_count": 46,
     "metadata": {},
     "output_type": "execute_result"
    },
    {
     "data": {
      "text/plain": [
       "<Figure size 640x480 with 1 Axes>"
      ],
      "image/png": "[encoded data removed]"
     },
     "metadata": {},
     "output_type": "display_data"
    }
   ],
   "execution_count": 46
  },
  {
   "cell_type": "code",
   "id": "fecbf4b4-dd12-4abe-ad20-d993fce0f7d5",
   "metadata": {
    "ExecuteTime": {
     "end_time": "2025-01-11T07:28:12.256580Z",
     "start_time": "2025-01-11T07:28:12.221083Z"
    }
   },
   "source": "data_sorted['y_total'] = data_sorted.iloc[:, 9] + data_sorted.iloc[:, 10]",
   "outputs": [],
   "execution_count": 21
  },
  {
   "metadata": {
    "ExecuteTime": {
     "end_time": "2025-01-11T07:28:17.022084Z",
     "start_time": "2025-01-11T07:28:16.998241Z"
    }
   },
   "cell_type": "code",
   "source": "print(data_sorted)",
   "id": "a103c7358aee6576",
   "outputs": [
    {
     "name": "stdout",
     "output_type": "stream",
     "text": [
      "       0            1           2         3         4         5         6  \\\n",
      "44   0.0  281829600.0  54226900.0  0.000000  0.000000  0.000000  0.000000   \n",
      "5    0.2  281197152.0  56876625.0  0.000005 -0.000002  0.000004  0.000007   \n",
      "25   0.4  280771072.0  58369025.0  0.000010  0.000005  0.000002  0.000011   \n",
      "28   0.6  280403168.0  58318650.0  0.000008  0.000002  0.000008  0.000011   \n",
      "4    0.8  280076544.0  58568900.0 -0.000002 -0.000004 -0.000004  0.000005   \n",
      "..   ...          ...         ...       ...       ...       ...       ...   \n",
      "16  11.4  274537568.0  58978725.0  0.002411  0.000011 -0.000955  0.002593   \n",
      "35  11.6  274492064.0  58932900.0  0.002501  0.000004 -0.000976  0.002684   \n",
      "30  11.8  274427712.0  58858150.0  0.002584 -0.000001 -0.001002  0.002771   \n",
      "31  12.0  274332160.0  58907875.0  0.002681 -0.000028 -0.001029  0.002871   \n",
      "47  12.2  274332160.0  58907875.0  0.002681 -0.000028 -0.001029  0.002871   \n",
      "\n",
      "               7             8             9            10       11       12  \\\n",
      "44 -9.745139e+10  2.439278e+10 -6.689968e+13  2.439278e+10  25350.0  90350.0   \n",
      "5  -9.862335e+10  2.543987e+10 -6.694948e+13  2.498633e+10   1625.0   8775.0   \n",
      "25 -9.923185e+10  2.539961e+10 -6.695696e+13  2.530334e+10    650.0   5850.0   \n",
      "28 -9.896006e+10  2.523418e+10 -6.689381e+13  2.517259e+10   1300.0   9100.0   \n",
      "4  -9.871880e+10  2.523004e+10 -6.682268e+13  2.504680e+10    975.0  10400.0   \n",
      "..           ...           ...           ...           ...      ...      ...   \n",
      "16 -9.737222e+10  2.459852e+10 -6.262442e+13  2.461300e+10   1950.0   9425.0   \n",
      "35 -9.738691e+10  2.463868e+10 -6.245235e+13  2.463897e+10    975.0   8775.0   \n",
      "30 -9.737439e+10  2.464016e+10 -6.227778e+13  2.463862e+10    975.0  10725.0   \n",
      "31 -9.737027e+10  2.466845e+10 -6.210184e+13  2.464940e+10   2925.0  10725.0   \n",
      "47 -9.737027e+10  2.466829e+10 -6.210184e+13  2.464911e+10   2925.0  10725.0   \n",
      "\n",
      "          13            14            15             y  y_normalized  \\\n",
      "44  531700.0 -9.745139e+10  2.439278e+10 -7.305861e+10     -1.000000   \n",
      "5   106600.0 -9.841956e+10  2.518692e+10 -7.323264e+10     -1.002382   \n",
      "25  102375.0 -9.902488e+10  2.512334e+10 -7.390154e+10     -1.011538   \n",
      "28  114725.0 -9.876959e+10  2.496024e+10 -7.380935e+10     -1.010276   \n",
      "4   125450.0 -9.855633e+10  2.497410e+10 -7.358222e+10     -1.007167   \n",
      "..       ...           ...           ...           ...           ...   \n",
      "16  139425.0 -9.734736e+10  2.425524e+10 -7.309212e+10     -1.000459   \n",
      "35  148850.0 -9.736226e+10  2.428544e+10 -7.307682e+10     -1.000249   \n",
      "30  149175.0 -9.735031e+10  2.427865e+10 -7.307166e+10     -1.000179   \n",
      "31  136500.0 -9.734639e+10  2.429601e+10 -7.305038e+10     -0.999887   \n",
      "47  136500.0 -9.734640e+10  2.429585e+10 -7.305055e+10     -0.999890   \n",
      "\n",
      "         y_total  \n",
      "44 -6.687529e+13  \n",
      "5  -6.692450e+13  \n",
      "25 -6.693166e+13  \n",
      "28 -6.686864e+13  \n",
      "4  -6.679764e+13  \n",
      "..           ...  \n",
      "16 -6.259980e+13  \n",
      "35 -6.242771e+13  \n",
      "30 -6.225314e+13  \n",
      "31 -6.207719e+13  \n",
      "47 -6.207719e+13  \n",
      "\n",
      "[62 rows x 19 columns]\n"
     ]
    }
   ],
   "execution_count": 22
  },
  {
   "metadata": {
    "ExecuteTime": {
     "end_time": "2025-01-11T07:31:06.801299Z",
     "start_time": "2025-01-11T07:31:06.767262Z"
    }
   },
   "cell_type": "code",
   "source": "initial_total_energy_value = data_sorted.loc[data_sorted.iloc[:, 0] == 0, 'y_total'].values[0]",
   "id": "25bd0efc55ef8aaa",
   "outputs": [],
   "execution_count": 24
  },
  {
   "metadata": {
    "ExecuteTime": {
     "end_time": "2025-01-11T07:31:23.155896Z",
     "start_time": "2025-01-11T07:31:23.151030Z"
    }
   },
   "cell_type": "code",
   "source": "print(initial_total_energy_value)",
   "id": "91dcf4377493e62e",
   "outputs": [
    {
     "name": "stdout",
     "output_type": "stream",
     "text": [
      "-66875291946846.33\n"
     ]
    }
   ],
   "execution_count": 25
  },
  {
   "metadata": {
    "ExecuteTime": {
     "end_time": "2025-01-11T07:31:35.863480Z",
     "start_time": "2025-01-11T07:31:35.859312Z"
    }
   },
   "cell_type": "code",
   "source": "initial_total_energy_value = abs(initial_total_energy_value)",
   "id": "81933cbe347a304e",
   "outputs": [],
   "execution_count": 26
  },
  {
   "metadata": {
    "ExecuteTime": {
     "end_time": "2025-01-11T07:31:58.098881Z",
     "start_time": "2025-01-11T07:31:58.091903Z"
    }
   },
   "cell_type": "code",
   "source": "print(initial_total_energy_value)",
   "id": "e5fc7b32c94484e4",
   "outputs": [
    {
     "name": "stdout",
     "output_type": "stream",
     "text": [
      "66875291946846.33\n"
     ]
    }
   ],
   "execution_count": 27
  },
  {
   "metadata": {
    "ExecuteTime": {
     "end_time": "2025-01-11T07:37:21.073686Z",
     "start_time": "2025-01-11T07:37:21.068748Z"
    }
   },
   "cell_type": "code",
   "source": "data_sorted['y_total_energy_normalized'] = data_sorted['y_total'] / initial_total_energy_value",
   "id": "5c839158599ccc75",
   "outputs": [],
   "execution_count": 33
  },
  {
   "metadata": {
    "ExecuteTime": {
     "end_time": "2025-01-11T07:37:22.870771Z",
     "start_time": "2025-01-11T07:37:22.849498Z"
    }
   },
   "cell_type": "code",
   "source": "print(data_sorted)",
   "id": "f0dea183ed4c97ac",
   "outputs": [
    {
     "name": "stdout",
     "output_type": "stream",
     "text": [
      "       0            1           2         3         4         5         6  \\\n",
      "44   0.0  281829600.0  54226900.0  0.000000  0.000000  0.000000  0.000000   \n",
      "5    0.2  281197152.0  56876625.0  0.000005 -0.000002  0.000004  0.000007   \n",
      "25   0.4  280771072.0  58369025.0  0.000010  0.000005  0.000002  0.000011   \n",
      "28   0.6  280403168.0  58318650.0  0.000008  0.000002  0.000008  0.000011   \n",
      "4    0.8  280076544.0  58568900.0 -0.000002 -0.000004 -0.000004  0.000005   \n",
      "..   ...          ...         ...       ...       ...       ...       ...   \n",
      "16  11.4  274537568.0  58978725.0  0.002411  0.000011 -0.000955  0.002593   \n",
      "35  11.6  274492064.0  58932900.0  0.002501  0.000004 -0.000976  0.002684   \n",
      "30  11.8  274427712.0  58858150.0  0.002584 -0.000001 -0.001002  0.002771   \n",
      "31  12.0  274332160.0  58907875.0  0.002681 -0.000028 -0.001029  0.002871   \n",
      "47  12.2  274332160.0  58907875.0  0.002681 -0.000028 -0.001029  0.002871   \n",
      "\n",
      "               7             8             9            10       11       12  \\\n",
      "44 -9.745139e+10  2.439278e+10 -6.689968e+13  2.439278e+10  25350.0  90350.0   \n",
      "5  -9.862335e+10  2.543987e+10 -6.694948e+13  2.498633e+10   1625.0   8775.0   \n",
      "25 -9.923185e+10  2.539961e+10 -6.695696e+13  2.530334e+10    650.0   5850.0   \n",
      "28 -9.896006e+10  2.523418e+10 -6.689381e+13  2.517259e+10   1300.0   9100.0   \n",
      "4  -9.871880e+10  2.523004e+10 -6.682268e+13  2.504680e+10    975.0  10400.0   \n",
      "..           ...           ...           ...           ...      ...      ...   \n",
      "16 -9.737222e+10  2.459852e+10 -6.262442e+13  2.461300e+10   1950.0   9425.0   \n",
      "35 -9.738691e+10  2.463868e+10 -6.245235e+13  2.463897e+10    975.0   8775.0   \n",
      "30 -9.737439e+10  2.464016e+10 -6.227778e+13  2.463862e+10    975.0  10725.0   \n",
      "31 -9.737027e+10  2.466845e+10 -6.210184e+13  2.464940e+10   2925.0  10725.0   \n",
      "47 -9.737027e+10  2.466829e+10 -6.210184e+13  2.464911e+10   2925.0  10725.0   \n",
      "\n",
      "          13            14            15             y       y_total  \\\n",
      "44  531700.0 -9.745139e+10  2.439278e+10 -7.305861e+10 -6.687529e+13   \n",
      "5   106600.0 -9.841956e+10  2.518692e+10 -7.323264e+10 -6.692450e+13   \n",
      "25  102375.0 -9.902488e+10  2.512334e+10 -7.390154e+10 -6.693166e+13   \n",
      "28  114725.0 -9.876959e+10  2.496024e+10 -7.380935e+10 -6.686864e+13   \n",
      "4   125450.0 -9.855633e+10  2.497410e+10 -7.358222e+10 -6.679764e+13   \n",
      "..       ...           ...           ...           ...           ...   \n",
      "16  139425.0 -9.734736e+10  2.425524e+10 -7.309212e+10 -6.259980e+13   \n",
      "35  148850.0 -9.736226e+10  2.428544e+10 -7.307682e+10 -6.242771e+13   \n",
      "30  149175.0 -9.735031e+10  2.427865e+10 -7.307166e+10 -6.225314e+13   \n",
      "31  136500.0 -9.734639e+10  2.429601e+10 -7.305038e+10 -6.207719e+13   \n",
      "47  136500.0 -9.734640e+10  2.429585e+10 -7.305055e+10 -6.207719e+13   \n",
      "\n",
      "    y_total_energy_normalized  \n",
      "44                  -1.000000  \n",
      "5                   -1.000736  \n",
      "25                  -1.000843  \n",
      "28                  -0.999900  \n",
      "4                   -0.998839  \n",
      "..                        ...  \n",
      "16                  -0.936068  \n",
      "35                  -0.933494  \n",
      "30                  -0.930884  \n",
      "31                  -0.928253  \n",
      "47                  -0.928253  \n",
      "\n",
      "[62 rows x 19 columns]\n"
     ]
    }
   ],
   "execution_count": 34
  },
  {
   "metadata": {
    "ExecuteTime": {
     "end_time": "2025-01-11T07:37:32.277291Z",
     "start_time": "2025-01-11T07:37:32.271181Z"
    }
   },
   "cell_type": "code",
   "source": "y_total_energy_normalized = data_sorted['y_total_energy_normalized']",
   "id": "5294470e0b147dff",
   "outputs": [],
   "execution_count": 35
  },
  {
   "metadata": {
    "ExecuteTime": {
     "end_time": "2025-01-11T07:37:40.988676Z",
     "start_time": "2025-01-11T07:37:40.797339Z"
    }
   },
   "cell_type": "code",
   "source": "plt.plot(x_sorted, y_total_energy_normalized, marker='o', linestyle='-', label='Normalized total energy')",
   "id": "76dedbcaccb4948a",
   "outputs": [
    {
     "data": {
      "text/plain": [
       "[<matplotlib.lines.Line2D at 0x113bd2710>]"
      ]
     },
     "execution_count": 36,
     "metadata": {},
     "output_type": "execute_result"
    },
    {
     "data": {
      "text/plain": [
       "<Figure size 640x480 with 1 Axes>"
      ],
      "image/png": "[encoded data removed]"
     },
     "metadata": {},
     "output_type": "display_data"
    }
   ],
   "execution_count": 36
  },
  {
   "metadata": {
    "ExecuteTime": {
     "end_time": "2025-01-12T05:46:22.928807Z",
     "start_time": "2025-01-12T05:46:22.321366Z"
    }
   },
   "cell_type": "code",
   "source": "data_sorted['consistency_PE'] = data_sorted.iloc[:, 7] == data_sorted.iloc[:, 14]",
   "id": "36a925530dcdff6c",
   "outputs": [],
   "execution_count": 37
  },
  {
   "metadata": {
    "ExecuteTime": {
     "end_time": "2025-01-12T05:46:48.630295Z",
     "start_time": "2025-01-12T05:46:48.613097Z"
    }
   },
   "cell_type": "code",
   "source": "data_sorted['consistency_KE'] = data_sorted.iloc[:, 8] == data_sorted.iloc[:, 15]",
   "id": "e17569d1b52db293",
   "outputs": [],
   "execution_count": 38
  },
  {
   "metadata": {
    "ExecuteTime": {
     "end_time": "2025-01-12T05:46:57.874088Z",
     "start_time": "2025-01-12T05:46:57.833299Z"
    }
   },
   "cell_type": "code",
   "source": "print(data_sorted)",
   "id": "86ec395925d82b33",
   "outputs": [
    {
     "name": "stdout",
     "output_type": "stream",
     "text": [
      "       0            1           2         3         4         5         6  \\\n",
      "44   0.0  281829600.0  54226900.0  0.000000  0.000000  0.000000  0.000000   \n",
      "5    0.2  281197152.0  56876625.0  0.000005 -0.000002  0.000004  0.000007   \n",
      "25   0.4  280771072.0  58369025.0  0.000010  0.000005  0.000002  0.000011   \n",
      "28   0.6  280403168.0  58318650.0  0.000008  0.000002  0.000008  0.000011   \n",
      "4    0.8  280076544.0  58568900.0 -0.000002 -0.000004 -0.000004  0.000005   \n",
      "..   ...          ...         ...       ...       ...       ...       ...   \n",
      "16  11.4  274537568.0  58978725.0  0.002411  0.000011 -0.000955  0.002593   \n",
      "35  11.6  274492064.0  58932900.0  0.002501  0.000004 -0.000976  0.002684   \n",
      "30  11.8  274427712.0  58858150.0  0.002584 -0.000001 -0.001002  0.002771   \n",
      "31  12.0  274332160.0  58907875.0  0.002681 -0.000028 -0.001029  0.002871   \n",
      "47  12.2  274332160.0  58907875.0  0.002681 -0.000028 -0.001029  0.002871   \n",
      "\n",
      "               7             8             9  ...       11       12        13  \\\n",
      "44 -9.745139e+10  2.439278e+10 -6.689968e+13  ...  25350.0  90350.0  531700.0   \n",
      "5  -9.862335e+10  2.543987e+10 -6.694948e+13  ...   1625.0   8775.0  106600.0   \n",
      "25 -9.923185e+10  2.539961e+10 -6.695696e+13  ...    650.0   5850.0  102375.0   \n",
      "28 -9.896006e+10  2.523418e+10 -6.689381e+13  ...   1300.0   9100.0  114725.0   \n",
      "4  -9.871880e+10  2.523004e+10 -6.682268e+13  ...    975.0  10400.0  125450.0   \n",
      "..           ...           ...           ...  ...      ...      ...       ...   \n",
      "16 -9.737222e+10  2.459852e+10 -6.262442e+13  ...   1950.0   9425.0  139425.0   \n",
      "35 -9.738691e+10  2.463868e+10 -6.245235e+13  ...    975.0   8775.0  148850.0   \n",
      "30 -9.737439e+10  2.464016e+10 -6.227778e+13  ...    975.0  10725.0  149175.0   \n",
      "31 -9.737027e+10  2.466845e+10 -6.210184e+13  ...   2925.0  10725.0  136500.0   \n",
      "47 -9.737027e+10  2.466829e+10 -6.210184e+13  ...   2925.0  10725.0  136500.0   \n",
      "\n",
      "              14            15             y       y_total  \\\n",
      "44 -9.745139e+10  2.439278e+10 -7.305861e+10 -6.687529e+13   \n",
      "5  -9.841956e+10  2.518692e+10 -7.323264e+10 -6.692450e+13   \n",
      "25 -9.902488e+10  2.512334e+10 -7.390154e+10 -6.693166e+13   \n",
      "28 -9.876959e+10  2.496024e+10 -7.380935e+10 -6.686864e+13   \n",
      "4  -9.855633e+10  2.497410e+10 -7.358222e+10 -6.679764e+13   \n",
      "..           ...           ...           ...           ...   \n",
      "16 -9.734736e+10  2.425524e+10 -7.309212e+10 -6.259980e+13   \n",
      "35 -9.736226e+10  2.428544e+10 -7.307682e+10 -6.242771e+13   \n",
      "30 -9.735031e+10  2.427865e+10 -7.307166e+10 -6.225314e+13   \n",
      "31 -9.734639e+10  2.429601e+10 -7.305038e+10 -6.207719e+13   \n",
      "47 -9.734640e+10  2.429585e+10 -7.305055e+10 -6.207719e+13   \n",
      "\n",
      "    y_total_energy_normalized  consistency_PE  consistency_KE  \n",
      "44                  -1.000000            True            True  \n",
      "5                   -1.000736           False           False  \n",
      "25                  -1.000843           False           False  \n",
      "28                  -0.999900           False           False  \n",
      "4                   -0.998839           False           False  \n",
      "..                        ...             ...             ...  \n",
      "16                  -0.936068           False           False  \n",
      "35                  -0.933494           False           False  \n",
      "30                  -0.930884           False           False  \n",
      "31                  -0.928253           False           False  \n",
      "47                  -0.928253           False           False  \n",
      "\n",
      "[62 rows x 21 columns]\n"
     ]
    }
   ],
   "execution_count": 39
  },
  {
   "metadata": {
    "ExecuteTime": {
     "end_time": "2025-01-12T05:49:35.121961Z",
     "start_time": "2025-01-12T05:49:35.055293Z"
    }
   },
   "cell_type": "code",
   "source": "data_sorted['self_energy'] = data_sorted.iloc[:, 7] + data_sorted.iloc[:, 8]",
   "id": "ddb04a69a574f91d",
   "outputs": [],
   "execution_count": 40
  },
  {
   "metadata": {
    "ExecuteTime": {
     "end_time": "2025-01-12T05:50:41.598087Z",
     "start_time": "2025-01-12T05:50:41.590763Z"
    }
   },
   "cell_type": "code",
   "source": "initial_self_energy_value = abs(data_sorted.loc[data_sorted.iloc[:, 0] == 0, 'self_energy'].values[0])",
   "id": "c49ffe5b9cae827f",
   "outputs": [],
   "execution_count": 42
  },
  {
   "metadata": {
    "ExecuteTime": {
     "end_time": "2025-01-12T05:50:47.445383Z",
     "start_time": "2025-01-12T05:50:47.440225Z"
    }
   },
   "cell_type": "code",
   "source": "print(initial_self_energy_value)",
   "id": "7e43a7d66ce3cb07",
   "outputs": [
    {
     "name": "stdout",
     "output_type": "stream",
     "text": [
      "73058612589.71219\n"
     ]
    }
   ],
   "execution_count": 43
  },
  {
   "metadata": {
    "ExecuteTime": {
     "end_time": "2025-01-12T05:51:28.275192Z",
     "start_time": "2025-01-12T05:51:28.258354Z"
    }
   },
   "cell_type": "code",
   "source": "data_sorted['self_energy_normalized'] = data_sorted['self_energy'] / initial_self_energy_value",
   "id": "a6d946fc491aa83a",
   "outputs": [],
   "execution_count": 44
  },
  {
   "metadata": {
    "ExecuteTime": {
     "end_time": "2025-01-12T05:52:13.147797Z",
     "start_time": "2025-01-12T05:52:12.638263Z"
    }
   },
   "cell_type": "code",
   "source": [
    "self_energy_normalized = data_sorted['self_energy_normalized']\n",
    "plt.plot(x_sorted, self_energy_normalized, marker='o', linestyle='-', label='Normalized self energy')"
   ],
   "id": "217f5e74ab0d75b",
   "outputs": [
    {
     "data": {
      "text/plain": [
       "[<matplotlib.lines.Line2D at 0x113cea1d0>]"
      ]
     },
     "execution_count": 45,
     "metadata": {},
     "output_type": "execute_result"
    },
    {
     "data": {
      "text/plain": [
       "<Figure size 640x480 with 1 Axes>"
      ],
      "image/png": "[encoded data removed]"
     },
     "metadata": {},
     "output_type": "display_data"
    }
   ],
   "execution_count": 45
  },
  {
   "metadata": {
    "ExecuteTime": {
     "end_time": "2025-01-12T05:52:56.694734Z",
     "start_time": "2025-01-12T05:52:56.672192Z"
    }
   },
   "cell_type": "code",
   "source": "print(data_sorted)",
   "id": "3913e373e2bbe458",
   "outputs": [
    {
     "name": "stdout",
     "output_type": "stream",
     "text": [
      "       0            1           2         3         4         5         6  \\\n",
      "44   0.0  281829600.0  54226900.0  0.000000  0.000000  0.000000  0.000000   \n",
      "5    0.2  281197152.0  56876625.0  0.000005 -0.000002  0.000004  0.000007   \n",
      "25   0.4  280771072.0  58369025.0  0.000010  0.000005  0.000002  0.000011   \n",
      "28   0.6  280403168.0  58318650.0  0.000008  0.000002  0.000008  0.000011   \n",
      "4    0.8  280076544.0  58568900.0 -0.000002 -0.000004 -0.000004  0.000005   \n",
      "..   ...          ...         ...       ...       ...       ...       ...   \n",
      "16  11.4  274537568.0  58978725.0  0.002411  0.000011 -0.000955  0.002593   \n",
      "35  11.6  274492064.0  58932900.0  0.002501  0.000004 -0.000976  0.002684   \n",
      "30  11.8  274427712.0  58858150.0  0.002584 -0.000001 -0.001002  0.002771   \n",
      "31  12.0  274332160.0  58907875.0  0.002681 -0.000028 -0.001029  0.002871   \n",
      "47  12.2  274332160.0  58907875.0  0.002681 -0.000028 -0.001029  0.002871   \n",
      "\n",
      "               7             8             9  ...        13            14  \\\n",
      "44 -9.745139e+10  2.439278e+10 -6.689968e+13  ...  531700.0 -9.745139e+10   \n",
      "5  -9.862335e+10  2.543987e+10 -6.694948e+13  ...  106600.0 -9.841956e+10   \n",
      "25 -9.923185e+10  2.539961e+10 -6.695696e+13  ...  102375.0 -9.902488e+10   \n",
      "28 -9.896006e+10  2.523418e+10 -6.689381e+13  ...  114725.0 -9.876959e+10   \n",
      "4  -9.871880e+10  2.523004e+10 -6.682268e+13  ...  125450.0 -9.855633e+10   \n",
      "..           ...           ...           ...  ...       ...           ...   \n",
      "16 -9.737222e+10  2.459852e+10 -6.262442e+13  ...  139425.0 -9.734736e+10   \n",
      "35 -9.738691e+10  2.463868e+10 -6.245235e+13  ...  148850.0 -9.736226e+10   \n",
      "30 -9.737439e+10  2.464016e+10 -6.227778e+13  ...  149175.0 -9.735031e+10   \n",
      "31 -9.737027e+10  2.466845e+10 -6.210184e+13  ...  136500.0 -9.734639e+10   \n",
      "47 -9.737027e+10  2.466829e+10 -6.210184e+13  ...  136500.0 -9.734640e+10   \n",
      "\n",
      "              15             y       y_total  y_total_energy_normalized  \\\n",
      "44  2.439278e+10 -7.305861e+10 -6.687529e+13                  -1.000000   \n",
      "5   2.518692e+10 -7.323264e+10 -6.692450e+13                  -1.000736   \n",
      "25  2.512334e+10 -7.390154e+10 -6.693166e+13                  -1.000843   \n",
      "28  2.496024e+10 -7.380935e+10 -6.686864e+13                  -0.999900   \n",
      "4   2.497410e+10 -7.358222e+10 -6.679764e+13                  -0.998839   \n",
      "..           ...           ...           ...                        ...   \n",
      "16  2.425524e+10 -7.309212e+10 -6.259980e+13                  -0.936068   \n",
      "35  2.428544e+10 -7.307682e+10 -6.242771e+13                  -0.933494   \n",
      "30  2.427865e+10 -7.307166e+10 -6.225314e+13                  -0.930884   \n",
      "31  2.429601e+10 -7.305038e+10 -6.207719e+13                  -0.928253   \n",
      "47  2.429585e+10 -7.305055e+10 -6.207719e+13                  -0.928253   \n",
      "\n",
      "    consistency_PE  consistency_KE   self_energy  self_energy_normalized  \n",
      "44            True            True -7.305861e+10               -1.000000  \n",
      "5            False           False -7.318348e+10               -1.001709  \n",
      "25           False           False -7.383224e+10               -1.010589  \n",
      "28           False           False -7.372588e+10               -1.009133  \n",
      "4            False           False -7.348876e+10               -1.005888  \n",
      "..             ...             ...           ...                     ...  \n",
      "16           False           False -7.277370e+10               -0.996100  \n",
      "35           False           False -7.274822e+10               -0.995752  \n",
      "30           False           False -7.273423e+10               -0.995560  \n",
      "31           False           False -7.270181e+10               -0.995116  \n",
      "47           False           False -7.270198e+10               -0.995119  \n",
      "\n",
      "[62 rows x 23 columns]\n"
     ]
    }
   ],
   "execution_count": 47
  },
  {
   "metadata": {},
   "cell_type": "code",
   "outputs": [],
   "execution_count": null,
   "source": "",
   "id": "f51c1d01629afdde"
  }
 ],
 "metadata": {
  "kernelspec": {
   "display_name": "Python 3 (ipykernel)",
   "language": "python",
   "name": "python3"
  },
  "language_info": {
   "codemirror_mode": {
    "name": "ipython",
    "version": 3
   },
   "file_extension": ".py",
   "mimetype": "text/x-python",
   "name": "python",
   "nbconvert_exporter": "python",
   "pygments_lexer": "ipython3",
   "version": "3.13.1"
  }
 },
 "nbformat": 4,
 "nbformat_minor": 5
}
